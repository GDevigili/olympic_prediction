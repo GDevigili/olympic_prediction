{
 "cells": [
  {
   "cell_type": "markdown",
   "metadata": {},
   "source": [
    "# Introduction to Data Science\n",
    "\n",
    "# The CRISP-DM approach to Data Science Tasks"
   ]
  },
  {
   "cell_type": "markdown",
   "metadata": {},
   "source": [
    "_________________________"
   ]
  },
  {
   "cell_type": "markdown",
   "metadata": {},
   "source": [
    "# Business Understanding\n",
    "                    \n",
    "### The Business Understanding phase focuses on understanding the objectives and requirements of the project.  \n",
    "+ Determine business objectives:  \n",
    "\n",
    "O objetivo do nosso projeto é entender quais são os fatores que influenciam os jovens e a educação brasileira. Utilizando os dados do INEP (Instituto Nacional de Estudos e Pesquisas Educacionais), podemos coletar o município, uf, média de alunos por turma, a taxa de reprovação, a taxa de abandono, a situação socio-econômica e diversas outras informações sobre o Ensino Médio de milhares de escolas ao redor do país e usar isso pra nos ajudar a compreender o que está por trás de uma educação de sucesso (ou não).\n",
    "\n",
    "+ Assess situation:  \n",
    "\n",
    "A educação brasileira é extremamente heterogênea, contando desde escolas de elite, com atividades complementares e baixa quantidade de aluno por professor, até escolas públicas cujo corpo docente nem sempre possui a formação acadêmica necessária pra matéria que dá aula. Os dados para pesquisas desse nível são extremamente extensos e de fácil acesso, porém de fonte única (INEP), vez que são coletados pelo governo e disponibilizados para a população de forma gratuita e transparente.\n",
    "\n",
    "+ Determine data mining goals: \n",
    "\n",
    "Coletar os dados sobre as escolas do ensino médio brasileiro, pra saber se elas são públicas ou privadas, urbanas ou rurais, medidas que comprovem  o engajamento do corpo discente com a educação (taxa de abandono, de reprovação) e a qualificação do corpo doscente. Todos esses dados são disponibilizados pelo INEP.\n",
    "\n",
    "+ Produce project plan:  \n",
    "    + Coletar os Indicadores Educacionais do INEP.\n",
    "\n",
    "    + Entender os dados, explorá-los e descrevê-los. \n",
    "\n",
    "    + Verificar quais são as tabelas e colunas relevantes para os objetivos e se desfazer do restante.\n",
    "\n",
    "    + Filtrar os dados, selecionando apenas escolas do ensino médio.\n",
    "\n",
    "    + Observar a correlação entre as variáveis e a taxa de abandono/taxa de reprovação.\n",
    "\n",
    "    + Construir um modelo que preveja a taxa de abandono e reprovação de uma escola, baseando-se nos outros dados obtidos.\n",
    "\n",
    "    + Separar os nossos dados em treino e teste, utilizando o treino para treinar o modelo e o teste para avaliar as previsões.\n",
    "\n",
    "    + Fazer o relatório final e revisar o projeto.\n",
    "\n"
   ]
  },
  {
   "cell_type": "code",
   "execution_count": 1,
   "metadata": {},
   "outputs": [],
   "source": [
    "import pandas as pd\n",
    "\n",
    "# aquisição dos dados\n",
    "import basedosdados as bd\n",
    "import requests\n",
    "from bs4 import BeautifulSoup as bs\n",
    "import numpy as np\n",
    "\n",
    "# visualização\n",
    "from matplotlib import pyplot as plt\n",
    "import seaborn as sns"
   ]
  },
  {
   "cell_type": "markdown",
   "metadata": {},
   "source": [
    "# Data Understanding  \n",
    "\n",
    "+ Collect initial data:  \n",
    "+ Describe data:  \n",
    "+ Explore data:  \n",
    "+ Verify data quality:  "
   ]
  },
  {
   "cell_type": "markdown",
   "metadata": {},
   "source": [
    "## Collect initial data:  "
   ]
  },
  {
   "cell_type": "code",
   "execution_count": 2,
   "metadata": {},
   "outputs": [],
   "source": [
    "# Define algumas variáveis úteis\n",
    "dataset_id = \"br_inep_indicadores_educacionais\"\n",
    "billing_project_id=\"trabalho-amd\""
   ]
  },
  {
   "cell_type": "markdown",
   "metadata": {},
   "source": [
    "Download das tabelas do dataset:\n",
    "(o código comentado baixa do site os .csv)"
   ]
  },
  {
   "cell_type": "code",
   "execution_count": 3,
   "metadata": {},
   "outputs": [],
   "source": [
    "#bd.download(dataset_id=dataset_id, table_id='escola', savepath='data/escola.csv', billing_project_id=billing_project_id)\n",
    "df_escola = pd.read_csv('data/escola.csv')"
   ]
  },
  {
   "cell_type": "code",
   "execution_count": 4,
   "metadata": {},
   "outputs": [
    {
     "data": {
      "text/plain": [
       "\"\\n#bd.download(dataset_id=dataset_id, table_id='brasil', savepath='data/brasil.csv', billing_project_id=billing_project_id)\\ndf_brasil = pd.read_csv('data/brasil.csv')\\n\\n#bd.download(dataset_id=dataset_id, table_id='brasil_remuneracao_docentes', savepath='data/brasil_remuneracao_docentes.csv', billing_project_id=billing_project_id)\\ndf_brasil_remuneracao = pd.read_csv('data/brasil_remuneracao_docentes.csv')\\n\\n#bd.download(dataset_id=dataset_id, table_id='municipio', savepath='data/municipio.csv', billing_project_id=billing_project_id)\\ndf_municipio = pd.read_csv('data/municipio.csv')\\n\\n#bd.download(dataset_id=dataset_id, table_id='municipio_taxas_transicao', savepath='data/municipio_taxas_transicao.csv', billing_project_id=billing_project_id)\\ndf_municipio_taxas = pd.read_csv('data/municipio_taxas_transicao.csv')\\n\\n#bd.download(dataset_id=dataset_id, table_id='regiao', savepath='data/regiao.csv', billing_project_id=billing_project_id)\\ndf_regiao = pd.read_csv('data/regiao.csv')\\n\\n#bd.download(dataset_id=dataset_id, table_id='uf', savepath='data/uf.csv', billing_project_id=billing_project_id)\\ndf_uf = pd.read_csv('data/uf.csv')\\n\\n#bd.download(dataset_id=dataset_id, table_id='uf_remuneracao_docentes', savepath='data/uf_remuneracao_docentes.csv', billing_project_id=billing_project_id)\\ndf_uf_remuneracao = pd.read_csv('data/uf_remuneracao_docentes.csv')\\n\\n#bd.download(dataset_id=dataset_id, table_id='escola_nivel_socioeconomico', savepath='data/escola_nivel_socioeconomico.csv', billing_project_id=billing_project_id)\\ndf_escola_nivel_socioeconomico = pd.read_csv('data/escola_nivel_socioeconomico.csv')\\n\""
      ]
     },
     "execution_count": 4,
     "metadata": {},
     "output_type": "execute_result"
    }
   ],
   "source": [
    "# Estes datasets foram baixados porém não serão usados\n",
    "# Estou deixando o código comentado pois podem vir a ser úteis depois\n",
    "# A escolha de não usar os dados é porque a maior parte deles são os mesmos dados apenas agrupados por categorias (brasil, estado, municipio, etc)\n",
    "'''\n",
    "#bd.download(dataset_id=dataset_id, table_id='brasil', savepath='data/brasil.csv', billing_project_id=billing_project_id)\n",
    "df_brasil = pd.read_csv('data/brasil.csv')\n",
    "\n",
    "#bd.download(dataset_id=dataset_id, table_id='brasil_remuneracao_docentes', savepath='data/brasil_remuneracao_docentes.csv', billing_project_id=billing_project_id)\n",
    "df_brasil_remuneracao = pd.read_csv('data/brasil_remuneracao_docentes.csv')\n",
    "\n",
    "#bd.download(dataset_id=dataset_id, table_id='municipio', savepath='data/municipio.csv', billing_project_id=billing_project_id)\n",
    "df_municipio = pd.read_csv('data/municipio.csv')\n",
    "\n",
    "#bd.download(dataset_id=dataset_id, table_id='municipio_taxas_transicao', savepath='data/municipio_taxas_transicao.csv', billing_project_id=billing_project_id)\n",
    "df_municipio_taxas = pd.read_csv('data/municipio_taxas_transicao.csv')\n",
    "\n",
    "#bd.download(dataset_id=dataset_id, table_id='regiao', savepath='data/regiao.csv', billing_project_id=billing_project_id)\n",
    "df_regiao = pd.read_csv('data/regiao.csv')\n",
    "\n",
    "#bd.download(dataset_id=dataset_id, table_id='uf', savepath='data/uf.csv', billing_project_id=billing_project_id)\n",
    "df_uf = pd.read_csv('data/uf.csv')\n",
    "\n",
    "#bd.download(dataset_id=dataset_id, table_id='uf_remuneracao_docentes', savepath='data/uf_remuneracao_docentes.csv', billing_project_id=billing_project_id)\n",
    "df_uf_remuneracao = pd.read_csv('data/uf_remuneracao_docentes.csv')\n",
    "\n",
    "#bd.download(dataset_id=dataset_id, table_id='escola_nivel_socioeconomico', savepath='data/escola_nivel_socioeconomico.csv', billing_project_id=billing_project_id)\n",
    "df_escola_nivel_socioeconomico = pd.read_csv('data/escola_nivel_socioeconomico.csv')\n",
    "'''"
   ]
  },
  {
   "cell_type": "markdown",
   "metadata": {},
   "source": [
    "Como pode ser justificado na sessão *Describe Data*, o dataset `escola.csv` tem apenas a coluna `id_municipio`, porém nenhum identificador de qual município é aquele nem qual a sua UF. <br>\n",
    "O IBGE classifica cada município com um código de 7 dígitos onde os dois primeiros representam a UF (referência: <https://www.ibge.gov.br/explica/codigos-dos-municipios.php>). <br>\n",
    "Como queremos analisar os dados por UF também, realizamos o scrapping dos códigos das UF presentes no link acima, mais para fins de aprendizado do que por questões práticas já que se tratavam de poucos dados."
   ]
  },
  {
   "cell_type": "code",
   "execution_count": 4,
   "metadata": {},
   "outputs": [],
   "source": [
    "html = requests.get(\"https://www.ibge.gov.br/explica/codigos-dos-municipios.php\")\n",
    "soup = bs(html.text)"
   ]
  },
  {
   "cell_type": "code",
   "execution_count": 5,
   "metadata": {},
   "outputs": [
    {
     "data": {
      "text/html": [
       "<div>\n",
       "<style scoped>\n",
       "    .dataframe tbody tr th:only-of-type {\n",
       "        vertical-align: middle;\n",
       "    }\n",
       "\n",
       "    .dataframe tbody tr th {\n",
       "        vertical-align: top;\n",
       "    }\n",
       "\n",
       "    .dataframe thead th {\n",
       "        text-align: right;\n",
       "    }\n",
       "</style>\n",
       "<table border=\"1\" class=\"dataframe\">\n",
       "  <thead>\n",
       "    <tr style=\"text-align: right;\">\n",
       "      <th></th>\n",
       "      <th>UFs</th>\n",
       "      <th>Códigos</th>\n",
       "    </tr>\n",
       "  </thead>\n",
       "  <tbody>\n",
       "    <tr>\n",
       "      <th>0</th>\n",
       "      <td>Acre</td>\n",
       "      <td>12</td>\n",
       "    </tr>\n",
       "    <tr>\n",
       "      <th>1</th>\n",
       "      <td>Alagoas</td>\n",
       "      <td>27</td>\n",
       "    </tr>\n",
       "    <tr>\n",
       "      <th>2</th>\n",
       "      <td>Amapá</td>\n",
       "      <td>16</td>\n",
       "    </tr>\n",
       "    <tr>\n",
       "      <th>3</th>\n",
       "      <td>Amazonas</td>\n",
       "      <td>13</td>\n",
       "    </tr>\n",
       "    <tr>\n",
       "      <th>4</th>\n",
       "      <td>Bahia</td>\n",
       "      <td>29</td>\n",
       "    </tr>\n",
       "    <tr>\n",
       "      <th>5</th>\n",
       "      <td>Ceará</td>\n",
       "      <td>23</td>\n",
       "    </tr>\n",
       "    <tr>\n",
       "      <th>6</th>\n",
       "      <td>Distrito Federal</td>\n",
       "      <td>53</td>\n",
       "    </tr>\n",
       "    <tr>\n",
       "      <th>7</th>\n",
       "      <td>Espírito Santo</td>\n",
       "      <td>32</td>\n",
       "    </tr>\n",
       "    <tr>\n",
       "      <th>8</th>\n",
       "      <td>Goiás</td>\n",
       "      <td>52</td>\n",
       "    </tr>\n",
       "    <tr>\n",
       "      <th>9</th>\n",
       "      <td>Maranhão</td>\n",
       "      <td>21</td>\n",
       "    </tr>\n",
       "    <tr>\n",
       "      <th>10</th>\n",
       "      <td>Mato Grosso</td>\n",
       "      <td>51</td>\n",
       "    </tr>\n",
       "    <tr>\n",
       "      <th>11</th>\n",
       "      <td>Mato Grosso do Sul</td>\n",
       "      <td>50</td>\n",
       "    </tr>\n",
       "    <tr>\n",
       "      <th>12</th>\n",
       "      <td>Minas Gerais</td>\n",
       "      <td>31</td>\n",
       "    </tr>\n",
       "    <tr>\n",
       "      <th>13</th>\n",
       "      <td>Pará</td>\n",
       "      <td>15</td>\n",
       "    </tr>\n",
       "    <tr>\n",
       "      <th>14</th>\n",
       "      <td>Paraíba</td>\n",
       "      <td>25</td>\n",
       "    </tr>\n",
       "    <tr>\n",
       "      <th>15</th>\n",
       "      <td>Paraná</td>\n",
       "      <td>41</td>\n",
       "    </tr>\n",
       "    <tr>\n",
       "      <th>16</th>\n",
       "      <td>Pernambuco</td>\n",
       "      <td>26</td>\n",
       "    </tr>\n",
       "    <tr>\n",
       "      <th>17</th>\n",
       "      <td>Piauí</td>\n",
       "      <td>22</td>\n",
       "    </tr>\n",
       "    <tr>\n",
       "      <th>18</th>\n",
       "      <td>Rio Grande do Norte</td>\n",
       "      <td>24</td>\n",
       "    </tr>\n",
       "    <tr>\n",
       "      <th>19</th>\n",
       "      <td>Rio Grande do Sul</td>\n",
       "      <td>43</td>\n",
       "    </tr>\n",
       "    <tr>\n",
       "      <th>20</th>\n",
       "      <td>Rio de Janeiro</td>\n",
       "      <td>33</td>\n",
       "    </tr>\n",
       "    <tr>\n",
       "      <th>21</th>\n",
       "      <td>Rondônia</td>\n",
       "      <td>11</td>\n",
       "    </tr>\n",
       "    <tr>\n",
       "      <th>22</th>\n",
       "      <td>Roraima</td>\n",
       "      <td>14</td>\n",
       "    </tr>\n",
       "    <tr>\n",
       "      <th>23</th>\n",
       "      <td>Santa Catarina</td>\n",
       "      <td>42</td>\n",
       "    </tr>\n",
       "    <tr>\n",
       "      <th>24</th>\n",
       "      <td>São Paulo</td>\n",
       "      <td>35</td>\n",
       "    </tr>\n",
       "    <tr>\n",
       "      <th>25</th>\n",
       "      <td>Sergipe</td>\n",
       "      <td>28</td>\n",
       "    </tr>\n",
       "    <tr>\n",
       "      <th>26</th>\n",
       "      <td>Tocantins</td>\n",
       "      <td>17</td>\n",
       "    </tr>\n",
       "  </tbody>\n",
       "</table>\n",
       "</div>"
      ],
      "text/plain": [
       "                    UFs  Códigos\n",
       "0                  Acre       12\n",
       "1               Alagoas       27\n",
       "2                 Amapá       16\n",
       "3              Amazonas       13\n",
       "4                 Bahia       29\n",
       "5                 Ceará       23\n",
       "6      Distrito Federal       53\n",
       "7        Espírito Santo       32\n",
       "8                 Goiás       52\n",
       "9              Maranhão       21\n",
       "10          Mato Grosso       51\n",
       "11   Mato Grosso do Sul       50\n",
       "12         Minas Gerais       31\n",
       "13                 Pará       15\n",
       "14              Paraíba       25\n",
       "15               Paraná       41\n",
       "16           Pernambuco       26\n",
       "17                Piauí       22\n",
       "18  Rio Grande do Norte       24\n",
       "19    Rio Grande do Sul       43\n",
       "20       Rio de Janeiro       33\n",
       "21             Rondônia       11\n",
       "22              Roraima       14\n",
       "23       Santa Catarina       42\n",
       "24            São Paulo       35\n",
       "25              Sergipe       28\n",
       "26            Tocantins       17"
      ]
     },
     "execution_count": 5,
     "metadata": {},
     "output_type": "execute_result"
    }
   ],
   "source": [
    "# seleciona a tag table\n",
    "table = soup.find('table')\n",
    "\n",
    "# extrai o nome das colunas da tabela\n",
    "column_names = []\n",
    "for name in table.find('tr'):\n",
    "    if name != \"\\n\":\n",
    "        column_names.append(name.text)\n",
    "\n",
    "# extrai as linhas da tabela\n",
    "trows = soup.find('tbody').find_all('tr')\n",
    "tcols = []\n",
    "\n",
    "# itera sobre as linhas\n",
    "for tr in trows:\n",
    "    # cria uma lista das colunas dessa linha\n",
    "    col = tr.find_all('td')\n",
    "    uf = col[0].text\n",
    "    code = int(col[1].text.replace('ver municípios', ''))\n",
    "    tcols.append([uf, code])\n",
    "\n",
    "df_codigos_uf = pd.DataFrame(tcols, columns = column_names)\n",
    "df_codigos_uf"
   ]
  },
  {
   "cell_type": "markdown",
   "metadata": {},
   "source": [
    "## Describe Data"
   ]
  },
  {
   "cell_type": "markdown",
   "metadata": {},
   "source": [
    "Começando pela tabela `escola` que é a mais importante do dataset, podemos ver que ela é formada por 208 colunas, destas 205 numéricas e 3 categóricas."
   ]
  },
  {
   "cell_type": "markdown",
   "metadata": {},
   "source": [
    "Algumas colunas notáveis são:\n",
    "+ **rede:** \n",
    "\n",
    "municipal, estadual, federal ou privada;\n",
    "\n",
    "+ **localização:**\n",
    "\n",
    "urbana ou rural;\n",
    "\n",
    "+ **atu**: Média de Alunos por Turma:\n",
    "\n",
    "Quociente entre a matrícula total e o total de turmas da escola;\n",
    "\n",
    "+ **had**: Média de Horas-Aula diária:\n",
    "\n",
    "Tempo médio de permanência do aluno na escola;\n",
    "\n",
    "+ **tdi**: Taxa de distorção idade-série:\n",
    "\n",
    "Percentual de alunos, em cada série, com idade superior à recomendada. No Brasil, a idade recomendada para o ingresso no ensino médio ($1^o$ ano) é de 15 anos;\n",
    "\n",
    "+ **taxa_aprovação/taxa_reprovação**:\n",
    "\n",
    "Percentual de alunos aprovados/reprovados naquela determinada série;\n",
    "\n",
    "+ **taxa_abandono**:\n",
    "\n",
    "Percentual de alunos que abandonaram os estudos;\n",
    "\n",
    "+ **dsu**: Percentual de Docentes com Curso Superior:\n",
    "\n",
    "Indicador do nível de formação dos docentes em exercício;\n",
    "\n",
    "+ **afd**: Adequação da Formação Docente:\n",
    "\n",
    "Classificação do docente de acordo com a adequação de sua formação às disciplinas que leciona, ou seja, considera os professores que são formados em licenciatura na área da disciplina que leciona.\n",
    "\n",
    "+ **ird_media_regularidade_docente**: Regularidade do corpo docente nas escolas de educação básica:\n",
    "\n",
    "Avaliação da regularidade do corpo docente em um período de 5 anos. O IRD varia de 0 a 5, sendo que quanto mais ptóximo de 0, mais irregular é o docente, e quanto mais próximo de 5, mais regular ele é;\n",
    "\n",
    "+ **id_municipio**:\n",
    "\n",
    "Código do município no IBGE, o código é composto por 7 dígitos onde os dois primeiros indicam a Unidade Federativa a qual ele pertence;\n",
    "\n",
    "+ **tnr**: \n",
    "\n",
    "Taxa de não resposta.\n",
    "\n",
    "Referência para a explicação de cada índice:\n",
    "<http://www.gestaouniversitaria.com.br/artigos/conheca-os-indicadores-que-detalham-as-tendencias-da-educacao-basica-brasileira>"
   ]
  },
  {
   "cell_type": "code",
   "execution_count": 6,
   "metadata": {},
   "outputs": [
    {
     "name": "stdout",
     "output_type": "stream",
     "text": [
      "<class 'pandas.core.frame.DataFrame'>\n",
      "RangeIndex: 2637557 entries, 0 to 2637556\n",
      "Columns: 208 entries, ano to icg_nivel_complexidade_gestao_escola\n",
      "dtypes: float64(202), int64(3), object(3)\n",
      "memory usage: 4.1+ GB\n"
     ]
    },
    {
     "data": {
      "text/html": [
       "<div>\n",
       "<style scoped>\n",
       "    .dataframe tbody tr th:only-of-type {\n",
       "        vertical-align: middle;\n",
       "    }\n",
       "\n",
       "    .dataframe tbody tr th {\n",
       "        vertical-align: top;\n",
       "    }\n",
       "\n",
       "    .dataframe thead th {\n",
       "        text-align: right;\n",
       "    }\n",
       "</style>\n",
       "<table border=\"1\" class=\"dataframe\">\n",
       "  <thead>\n",
       "    <tr style=\"text-align: right;\">\n",
       "      <th></th>\n",
       "      <th>ano</th>\n",
       "      <th>id_municipio</th>\n",
       "      <th>rede</th>\n",
       "      <th>id_escola</th>\n",
       "      <th>localizacao</th>\n",
       "      <th>atu_ei</th>\n",
       "      <th>atu_ei_creche</th>\n",
       "      <th>atu_ei_pre_escola</th>\n",
       "      <th>atu_ef</th>\n",
       "      <th>atu_ef_anos_iniciais</th>\n",
       "      <th>...</th>\n",
       "      <th>ied_ef_anos_finais_nivel_4</th>\n",
       "      <th>ied_ef_anos_finais_nivel_5</th>\n",
       "      <th>ied_ef_anos_finais_nivel_6</th>\n",
       "      <th>ied_em_nivel_1</th>\n",
       "      <th>ied_em_nivel_2</th>\n",
       "      <th>ied_em_nivel_3</th>\n",
       "      <th>ied_em_nivel_4</th>\n",
       "      <th>ied_em_nivel_5</th>\n",
       "      <th>ied_em_nivel_6</th>\n",
       "      <th>icg_nivel_complexidade_gestao_escola</th>\n",
       "    </tr>\n",
       "  </thead>\n",
       "  <tbody>\n",
       "    <tr>\n",
       "      <th>0</th>\n",
       "      <td>2013</td>\n",
       "      <td>1100015</td>\n",
       "      <td>municipal</td>\n",
       "      <td>11024542</td>\n",
       "      <td>rural</td>\n",
       "      <td>NaN</td>\n",
       "      <td>NaN</td>\n",
       "      <td>NaN</td>\n",
       "      <td>5.0</td>\n",
       "      <td>NaN</td>\n",
       "      <td>...</td>\n",
       "      <td>0.0</td>\n",
       "      <td>0.0</td>\n",
       "      <td>0.0</td>\n",
       "      <td>NaN</td>\n",
       "      <td>NaN</td>\n",
       "      <td>NaN</td>\n",
       "      <td>NaN</td>\n",
       "      <td>NaN</td>\n",
       "      <td>NaN</td>\n",
       "      <td>nivel 1</td>\n",
       "    </tr>\n",
       "    <tr>\n",
       "      <th>1</th>\n",
       "      <td>2013</td>\n",
       "      <td>1100015</td>\n",
       "      <td>municipal</td>\n",
       "      <td>11025000</td>\n",
       "      <td>rural</td>\n",
       "      <td>NaN</td>\n",
       "      <td>NaN</td>\n",
       "      <td>NaN</td>\n",
       "      <td>6.0</td>\n",
       "      <td>NaN</td>\n",
       "      <td>...</td>\n",
       "      <td>0.0</td>\n",
       "      <td>0.0</td>\n",
       "      <td>0.0</td>\n",
       "      <td>NaN</td>\n",
       "      <td>NaN</td>\n",
       "      <td>NaN</td>\n",
       "      <td>NaN</td>\n",
       "      <td>NaN</td>\n",
       "      <td>NaN</td>\n",
       "      <td>nivel 1</td>\n",
       "    </tr>\n",
       "    <tr>\n",
       "      <th>2</th>\n",
       "      <td>2013</td>\n",
       "      <td>1100015</td>\n",
       "      <td>municipal</td>\n",
       "      <td>11025115</td>\n",
       "      <td>rural</td>\n",
       "      <td>11.0</td>\n",
       "      <td>NaN</td>\n",
       "      <td>11.0</td>\n",
       "      <td>13.0</td>\n",
       "      <td>NaN</td>\n",
       "      <td>...</td>\n",
       "      <td>30.8</td>\n",
       "      <td>7.7</td>\n",
       "      <td>7.7</td>\n",
       "      <td>NaN</td>\n",
       "      <td>NaN</td>\n",
       "      <td>NaN</td>\n",
       "      <td>NaN</td>\n",
       "      <td>NaN</td>\n",
       "      <td>NaN</td>\n",
       "      <td>nivel 2</td>\n",
       "    </tr>\n",
       "    <tr>\n",
       "      <th>3</th>\n",
       "      <td>2013</td>\n",
       "      <td>1100015</td>\n",
       "      <td>municipal</td>\n",
       "      <td>11047461</td>\n",
       "      <td>urbana</td>\n",
       "      <td>19.3</td>\n",
       "      <td>NaN</td>\n",
       "      <td>19.3</td>\n",
       "      <td>20.0</td>\n",
       "      <td>20.0</td>\n",
       "      <td>...</td>\n",
       "      <td>NaN</td>\n",
       "      <td>NaN</td>\n",
       "      <td>NaN</td>\n",
       "      <td>NaN</td>\n",
       "      <td>NaN</td>\n",
       "      <td>NaN</td>\n",
       "      <td>NaN</td>\n",
       "      <td>NaN</td>\n",
       "      <td>NaN</td>\n",
       "      <td>nivel 2</td>\n",
       "    </tr>\n",
       "    <tr>\n",
       "      <th>4</th>\n",
       "      <td>2013</td>\n",
       "      <td>1100023</td>\n",
       "      <td>municipal</td>\n",
       "      <td>11007850</td>\n",
       "      <td>rural</td>\n",
       "      <td>NaN</td>\n",
       "      <td>NaN</td>\n",
       "      <td>NaN</td>\n",
       "      <td>18.1</td>\n",
       "      <td>17.2</td>\n",
       "      <td>...</td>\n",
       "      <td>71.4</td>\n",
       "      <td>0.0</td>\n",
       "      <td>0.0</td>\n",
       "      <td>NaN</td>\n",
       "      <td>NaN</td>\n",
       "      <td>NaN</td>\n",
       "      <td>NaN</td>\n",
       "      <td>NaN</td>\n",
       "      <td>NaN</td>\n",
       "      <td>nivel 3</td>\n",
       "    </tr>\n",
       "    <tr>\n",
       "      <th>5</th>\n",
       "      <td>2013</td>\n",
       "      <td>1100023</td>\n",
       "      <td>estadual</td>\n",
       "      <td>11048620</td>\n",
       "      <td>urbana</td>\n",
       "      <td>NaN</td>\n",
       "      <td>NaN</td>\n",
       "      <td>NaN</td>\n",
       "      <td>29.9</td>\n",
       "      <td>27.8</td>\n",
       "      <td>...</td>\n",
       "      <td>33.3</td>\n",
       "      <td>44.4</td>\n",
       "      <td>5.6</td>\n",
       "      <td>0.0</td>\n",
       "      <td>0.0</td>\n",
       "      <td>0.0</td>\n",
       "      <td>46.6</td>\n",
       "      <td>46.7</td>\n",
       "      <td>6.7</td>\n",
       "      <td>nivel 6</td>\n",
       "    </tr>\n",
       "    <tr>\n",
       "      <th>6</th>\n",
       "      <td>2013</td>\n",
       "      <td>1100023</td>\n",
       "      <td>municipal</td>\n",
       "      <td>11007931</td>\n",
       "      <td>urbana</td>\n",
       "      <td>26.1</td>\n",
       "      <td>NaN</td>\n",
       "      <td>26.1</td>\n",
       "      <td>27.7</td>\n",
       "      <td>27.7</td>\n",
       "      <td>...</td>\n",
       "      <td>NaN</td>\n",
       "      <td>NaN</td>\n",
       "      <td>NaN</td>\n",
       "      <td>NaN</td>\n",
       "      <td>NaN</td>\n",
       "      <td>NaN</td>\n",
       "      <td>NaN</td>\n",
       "      <td>NaN</td>\n",
       "      <td>NaN</td>\n",
       "      <td>nivel 5</td>\n",
       "    </tr>\n",
       "    <tr>\n",
       "      <th>7</th>\n",
       "      <td>2013</td>\n",
       "      <td>1100049</td>\n",
       "      <td>municipal</td>\n",
       "      <td>11026294</td>\n",
       "      <td>rural</td>\n",
       "      <td>13.0</td>\n",
       "      <td>NaN</td>\n",
       "      <td>13.0</td>\n",
       "      <td>17.1</td>\n",
       "      <td>17.6</td>\n",
       "      <td>...</td>\n",
       "      <td>42.9</td>\n",
       "      <td>0.0</td>\n",
       "      <td>14.3</td>\n",
       "      <td>NaN</td>\n",
       "      <td>NaN</td>\n",
       "      <td>NaN</td>\n",
       "      <td>NaN</td>\n",
       "      <td>NaN</td>\n",
       "      <td>NaN</td>\n",
       "      <td>nivel 2</td>\n",
       "    </tr>\n",
       "    <tr>\n",
       "      <th>8</th>\n",
       "      <td>2013</td>\n",
       "      <td>1100049</td>\n",
       "      <td>estadual</td>\n",
       "      <td>11026014</td>\n",
       "      <td>urbana</td>\n",
       "      <td>NaN</td>\n",
       "      <td>NaN</td>\n",
       "      <td>NaN</td>\n",
       "      <td>19.0</td>\n",
       "      <td>19.8</td>\n",
       "      <td>...</td>\n",
       "      <td>71.4</td>\n",
       "      <td>14.3</td>\n",
       "      <td>0.0</td>\n",
       "      <td>NaN</td>\n",
       "      <td>NaN</td>\n",
       "      <td>NaN</td>\n",
       "      <td>NaN</td>\n",
       "      <td>NaN</td>\n",
       "      <td>NaN</td>\n",
       "      <td>nivel 3</td>\n",
       "    </tr>\n",
       "    <tr>\n",
       "      <th>9</th>\n",
       "      <td>2013</td>\n",
       "      <td>1100049</td>\n",
       "      <td>estadual</td>\n",
       "      <td>11026545</td>\n",
       "      <td>urbana</td>\n",
       "      <td>NaN</td>\n",
       "      <td>NaN</td>\n",
       "      <td>NaN</td>\n",
       "      <td>27.5</td>\n",
       "      <td>27.4</td>\n",
       "      <td>...</td>\n",
       "      <td>33.3</td>\n",
       "      <td>0.0</td>\n",
       "      <td>0.0</td>\n",
       "      <td>NaN</td>\n",
       "      <td>NaN</td>\n",
       "      <td>NaN</td>\n",
       "      <td>NaN</td>\n",
       "      <td>NaN</td>\n",
       "      <td>NaN</td>\n",
       "      <td>nivel 3</td>\n",
       "    </tr>\n",
       "  </tbody>\n",
       "</table>\n",
       "<p>10 rows × 208 columns</p>\n",
       "</div>"
      ],
      "text/plain": [
       "    ano  id_municipio       rede  id_escola localizacao  atu_ei  \\\n",
       "0  2013       1100015  municipal   11024542       rural     NaN   \n",
       "1  2013       1100015  municipal   11025000       rural     NaN   \n",
       "2  2013       1100015  municipal   11025115       rural    11.0   \n",
       "3  2013       1100015  municipal   11047461      urbana    19.3   \n",
       "4  2013       1100023  municipal   11007850       rural     NaN   \n",
       "5  2013       1100023   estadual   11048620      urbana     NaN   \n",
       "6  2013       1100023  municipal   11007931      urbana    26.1   \n",
       "7  2013       1100049  municipal   11026294       rural    13.0   \n",
       "8  2013       1100049   estadual   11026014      urbana     NaN   \n",
       "9  2013       1100049   estadual   11026545      urbana     NaN   \n",
       "\n",
       "   atu_ei_creche  atu_ei_pre_escola  atu_ef  atu_ef_anos_iniciais  ...  \\\n",
       "0            NaN                NaN     5.0                   NaN  ...   \n",
       "1            NaN                NaN     6.0                   NaN  ...   \n",
       "2            NaN               11.0    13.0                   NaN  ...   \n",
       "3            NaN               19.3    20.0                  20.0  ...   \n",
       "4            NaN                NaN    18.1                  17.2  ...   \n",
       "5            NaN                NaN    29.9                  27.8  ...   \n",
       "6            NaN               26.1    27.7                  27.7  ...   \n",
       "7            NaN               13.0    17.1                  17.6  ...   \n",
       "8            NaN                NaN    19.0                  19.8  ...   \n",
       "9            NaN                NaN    27.5                  27.4  ...   \n",
       "\n",
       "   ied_ef_anos_finais_nivel_4  ied_ef_anos_finais_nivel_5  \\\n",
       "0                         0.0                         0.0   \n",
       "1                         0.0                         0.0   \n",
       "2                        30.8                         7.7   \n",
       "3                         NaN                         NaN   \n",
       "4                        71.4                         0.0   \n",
       "5                        33.3                        44.4   \n",
       "6                         NaN                         NaN   \n",
       "7                        42.9                         0.0   \n",
       "8                        71.4                        14.3   \n",
       "9                        33.3                         0.0   \n",
       "\n",
       "   ied_ef_anos_finais_nivel_6  ied_em_nivel_1  ied_em_nivel_2  ied_em_nivel_3  \\\n",
       "0                         0.0             NaN             NaN             NaN   \n",
       "1                         0.0             NaN             NaN             NaN   \n",
       "2                         7.7             NaN             NaN             NaN   \n",
       "3                         NaN             NaN             NaN             NaN   \n",
       "4                         0.0             NaN             NaN             NaN   \n",
       "5                         5.6             0.0             0.0             0.0   \n",
       "6                         NaN             NaN             NaN             NaN   \n",
       "7                        14.3             NaN             NaN             NaN   \n",
       "8                         0.0             NaN             NaN             NaN   \n",
       "9                         0.0             NaN             NaN             NaN   \n",
       "\n",
       "   ied_em_nivel_4  ied_em_nivel_5  ied_em_nivel_6  \\\n",
       "0             NaN             NaN             NaN   \n",
       "1             NaN             NaN             NaN   \n",
       "2             NaN             NaN             NaN   \n",
       "3             NaN             NaN             NaN   \n",
       "4             NaN             NaN             NaN   \n",
       "5            46.6            46.7             6.7   \n",
       "6             NaN             NaN             NaN   \n",
       "7             NaN             NaN             NaN   \n",
       "8             NaN             NaN             NaN   \n",
       "9             NaN             NaN             NaN   \n",
       "\n",
       "   icg_nivel_complexidade_gestao_escola  \n",
       "0                               nivel 1  \n",
       "1                               nivel 1  \n",
       "2                               nivel 2  \n",
       "3                               nivel 2  \n",
       "4                               nivel 3  \n",
       "5                               nivel 6  \n",
       "6                               nivel 5  \n",
       "7                               nivel 2  \n",
       "8                               nivel 3  \n",
       "9                               nivel 3  \n",
       "\n",
       "[10 rows x 208 columns]"
      ]
     },
     "execution_count": 6,
     "metadata": {},
     "output_type": "execute_result"
    }
   ],
   "source": [
    "df_escola.info()\n",
    "df_escola.head(10)"
   ]
  },
  {
   "cell_type": "markdown",
   "metadata": {},
   "source": [
    "# Data Preparation\n",
    "\n",
    "+ Select data:   \n",
    "+ Clean data:   \n",
    "+ Construct data/transform data/feature engineering:   \n",
    "+ Integrate data:   \n",
    "+ (Re) Format data:   "
   ]
  },
  {
   "cell_type": "markdown",
   "metadata": {},
   "source": [
    "A ideia é apenas trabalhar com os dados do ensino médio. Então filtramos as colunas `id_escola`, `ano`, `id_municipio`, `rede` e `localizacao` além de todas aquelas que possuem a substring 'em' (referente à ensino médio) em seu nome.\n",
    "\n",
    "Após isso removemos todas as linhas que não possuíam dados (preenchidas com `Nan`) na coluna `taxa_aprovacao_em`, ou seja, as escolas que não tinha registros referentes ao ensino médio já que atuam em outros níveis de educação."
   ]
  },
  {
   "cell_type": "code",
   "execution_count": 7,
   "metadata": {},
   "outputs": [],
   "source": [
    "# seleciona as colunas relacionadas ao EM:\n",
    "em_cols = ['id_escola', 'ano', 'id_municipio', 'rede', 'localizacao']\n",
    "for col in df_escola.columns:\n",
    "    # se a coluna tem a string \"em\" seleciona ela\n",
    "    if \"em\" in col:\n",
    "        em_cols.append(col)\n",
    "\n",
    "# redefine o dataset apenas com essas colunas\n",
    "df_escola_em = df_escola[em_cols]\n",
    "\n",
    "# remove as linhas que não tem dados do EM (consideramos que se não há taxa de aprovação, a escola não tem EM)\n",
    "df_escola_em = df_escola_em.dropna(subset=['taxa_aprovacao_em'])"
   ]
  },
  {
   "cell_type": "markdown",
   "metadata": {},
   "source": [
    "Também pretendemos adicionar as UFs no dataset, contudo tivemos problemas e não conseguimos adicionar elas, portanto apenas obtivemos o `id_uf` com base no `id_municipio`. Até a A2 pretendemos resolver este problema. O código comentado foi uma tentativa falha de realizar tal objetivo."
   ]
  },
  {
   "cell_type": "code",
   "execution_count": 8,
   "metadata": {},
   "outputs": [],
   "source": [
    "# Código para adicionar o ID da UF\n",
    "id_ufs = []\n",
    "\n",
    "for index, row in df_escola_em.iterrows():\n",
    "    id_uf = int(str(row['id_municipio'])[0:2])\n",
    "    id_ufs.append(id_uf)\n",
    "\n",
    "df_escola_em.insert(3, \"id_uf\", id_ufs, True)"
   ]
  },
  {
   "cell_type": "code",
   "execution_count": null,
   "metadata": {},
   "outputs": [],
   "source": [
    "# Código para adicionar o nome da UF no dataframe\n",
    "\"\"\"\n",
    "ufs = []\n",
    "\n",
    "for index, row in df_escola_em.iterrows():\n",
    "    id_uf = int(str(row['id_municipio'])[0:2])\n",
    "    # ufs.append(df_codigos_uf.query(f\"Códigos == {int(str(row['id_municipio'])[0:2])}\")['UFs'])\n",
    "\n",
    "ufs = pd.Series(ufs)\n",
    "\n",
    "df_escola_em.insert(3, \"uf\", ufs, True)\n",
    "\"\"\""
   ]
  },
  {
   "cell_type": "code",
   "execution_count": null,
   "metadata": {},
   "outputs": [],
   "source": [
    "df_escola_em.info(show_counts=True)\n",
    "df_escola_em.head(10)"
   ]
  },
  {
   "cell_type": "markdown",
   "metadata": {},
   "source": [
    "E por fim, temos o dataset filtrado contendo **350.586** entradas e **59** colunas."
   ]
  },
  {
   "cell_type": "markdown",
   "metadata": {},
   "source": [
    "## Gerando o dataset com Dummies\n",
    "de modo a podermos tratar numericamente as variáveis categóricas na hora de elaborar os modelos, geramos um dataframe auxiliar com os dummies."
   ]
  },
  {
   "cell_type": "code",
   "execution_count": 9,
   "metadata": {},
   "outputs": [],
   "source": [
    "df_escola_em_dummies = pd.get_dummies(df_escola_em)"
   ]
  },
  {
   "cell_type": "markdown",
   "metadata": {},
   "source": [
    "# Data Exploration"
   ]
  },
  {
   "cell_type": "markdown",
   "metadata": {},
   "source": [
    "## Gráfico de Correlação com todos os dados"
   ]
  },
  {
   "cell_type": "code",
   "execution_count": null,
   "metadata": {},
   "outputs": [],
   "source": [
    "corr = df_escola_em_dummies.corr()\n",
    "ax = sns.heatmap(   corr, \n",
    "                    vmin=-1, vmax=1, center=0, \n",
    "                    cmap=sns.diverging_palette(20, 220, n=200), \n",
    "                    square=True\n",
    "                )\n",
    "ax.set_xticklabels(\n",
    "    ax.get_xticklabels(),\n",
    "    rotation=65,\n",
    "    horizontalalignment='right'\n",
    ")\n"
   ]
  },
  {
   "cell_type": "markdown",
   "metadata": {},
   "source": [
    "## Matriz de Correlação com menos colunas"
   ]
  },
  {
   "cell_type": "code",
   "execution_count": null,
   "metadata": {},
   "outputs": [],
   "source": [
    "correlation_cols = ['taxa_aprovacao_em', 'taxa_reprovacao_em', 'taxa_abandono_em', 'ano',\n",
    "                    'atu_em', 'had_em', 'tdi_em', 'dsu_em',  'afd_em_grupo_1',  'afd_em_grupo_2', 'afd_em_grupo_3','afd_em_grupo_4', 'afd_em_grupo_5', \n",
    "                    'ied_em_nivel_1', 'ied_em_nivel_2', 'ied_em_nivel_3', 'ied_em_nivel_4', 'ied_em_nivel_5', 'ied_em_nivel_6']\n",
    "corr = df_escola_em[correlation_cols].corr()\n",
    "ax = sns.heatmap(   \n",
    "    corr, \n",
    "    vmin=-1, vmax=1, center=0, \n",
    "    cmap=sns.diverging_palette(20, 220, n=200), \n",
    "    square=True\n",
    ")\n",
    "ax.set_xticklabels(\n",
    "    ax.get_xticklabels(),\n",
    "    rotation=45,\n",
    "    horizontalalignment='right'\n",
    ")"
   ]
  },
  {
   "cell_type": "markdown",
   "metadata": {},
   "source": [
    "## Matriz de Correlação com as variáveis categóricas\n",
    "Podemos notar algumas correlações importantes, como entre taxa de aprovação e rede da escola, taxa de aprovação sendo negativamente correlacionada com taxa de distorção de idade, que é positivamente correlacionado com reprovações e abandonos e também podemos observar que a quantidade de horas em sala de aula gera uma maior taxa de aprovação e uma menor taxa de abandono e reprovação. Além disso podemos notar que a localização da escola pouco influencia em grande parte dos índices."
   ]
  },
  {
   "cell_type": "code",
   "execution_count": null,
   "metadata": {},
   "outputs": [],
   "source": [
    "correlation_cols = ['taxa_aprovacao_em', 'taxa_reprovacao_em', 'taxa_abandono_em', 'ano',\n",
    "                    'atu_em', 'had_em', 'tdi_em', 'dsu_em', 'localizacao_rural', 'localizacao_urbana', 'rede_privada', 'rede_municipal', 'rede_estadual', 'rede_federal']\n",
    "corr = df_escola_em_dummies[correlation_cols].corr()\n",
    "ax = sns.heatmap(corr, vmin=-1, vmax=1, center=0, cmap=sns.diverging_palette(20, 220, n=200), square=True)"
   ]
  },
  {
   "cell_type": "markdown",
   "metadata": {},
   "source": [
    "## Média de Aprovações por rede e localização:\n",
    "podemos observar que a aprovação em média não difere tanto quanto à escola estar em área urbana ou rural, porém a aprovação média da rede privada chega a ser 10% a mais que das redes públicas."
   ]
  },
  {
   "cell_type": "code",
   "execution_count": null,
   "metadata": {},
   "outputs": [],
   "source": [
    "media_aprovacao = df_escola_em[['taxa_aprovacao_em', 'rede', 'localizacao']].groupby(['rede', 'localizacao'], as_index=False).mean()\n",
    "print(media_aprovacao)\n",
    "sns.catplot(\n",
    "    x = 'rede',\n",
    "    y = 'taxa_aprovacao_em',\n",
    "    hue = 'localizacao',\n",
    "    kind = 'bar',\n",
    "    data = media_aprovacao\n",
    ")"
   ]
  },
  {
   "cell_type": "markdown",
   "metadata": {},
   "source": [
    "## Média de reprovações por rede e localização\n",
    "Já a média de reprovações é mais influenciada por localização e rede, tendo mais reprovações em áreas urbanas e uma taxa de reprovações mais alta na rede federal."
   ]
  },
  {
   "cell_type": "code",
   "execution_count": null,
   "metadata": {},
   "outputs": [],
   "source": [
    "media_reprovacao = df_escola_em[['taxa_reprovacao_em', 'rede', 'localizacao']].groupby(['rede', 'localizacao'], as_index=False).mean()\n",
    "print(media_reprovacao)\n",
    "sns.catplot(\n",
    "    x = 'rede',\n",
    "    y = 'taxa_reprovacao_em',\n",
    "    hue = 'localizacao',\n",
    "    kind = 'bar',\n",
    "    data = media_reprovacao\n",
    ")"
   ]
  },
  {
   "cell_type": "markdown",
   "metadata": {},
   "source": [
    "## Média da taxa de abandono por rede e localização\n",
    "É notável uma grande diferença entre rede rural e urbana, isso provavelmente devido à muitos estudantes no ensino médio precisarem trabalhar com a família na agricultura. Além disso, a rede privada tem uma taxa de abandono bem reduzida em áreas urbanas (menor que 1%) e a rede federal é dentre as públicas a que menos alunos abandonam a escola"
   ]
  },
  {
   "cell_type": "code",
   "execution_count": null,
   "metadata": {},
   "outputs": [],
   "source": [
    "media_abandono = df_escola_em[['taxa_abandono_em', 'rede', 'localizacao']].groupby(['rede', 'localizacao'], as_index=False).mean()\n",
    "print(media_abandono)\n",
    "sns.catplot(\n",
    "    x = 'rede',\n",
    "    y = 'taxa_abandono_em',\n",
    "    hue = 'localizacao',\n",
    "    kind = 'bar',\n",
    "    data = media_abandono\n",
    ")"
   ]
  },
  {
   "cell_type": "markdown",
   "metadata": {},
   "source": [
    "## Média de abandono ao longo do tempo\n",
    "Analisando a média de abandono ao longo do tempo, podemos ver que, num geral, ela teve uma queda considerável nos últimos anos, principalmente nas redes municipal e estadual."
   ]
  },
  {
   "cell_type": "code",
   "execution_count": null,
   "metadata": {},
   "outputs": [],
   "source": [
    "media_abandono = df_escola_em[['taxa_abandono_em', 'rede', 'localizacao', 'ano']].groupby(['ano', 'rede', 'localizacao'], as_index=False).mean()\n",
    "media_abandono[\"ano\"] = media_abandono[\"ano\"].astype('str')\n",
    "sns.relplot(x=media_abandono['ano'], y=media_abandono[\"taxa_abandono_em\"],\n",
    "            col=media_abandono[\"rede\"], row=media_abandono[\"localizacao\"], height=3,\n",
    "            estimator=None, data=media_abandono, kind = \"line\")"
   ]
  },
  {
   "cell_type": "code",
   "execution_count": null,
   "metadata": {},
   "outputs": [],
   "source": [
    "df_escola_em_dummies.hist(bins = 10, figsize=(20, 20), grid=False, sharex = False, sharey=False);"
   ]
  },
  {
   "cell_type": "code",
   "execution_count": null,
   "metadata": {},
   "outputs": [],
   "source": [
    "df_escola_em_dummies.plot(kind='box', subplots=True, layout=(8, 8), sharex=False, sharey=False, figsize=(20, 20));"
   ]
  },
  {
   "cell_type": "markdown",
   "metadata": {},
   "source": [
    "## Verificar a qualidade dos dados\n",
    "Os dados foram adquiridos do INEP, portanto não há preocupação quanto a veracidade dos mesmos pois são dados oficiais. Quanto a dados faltantes, há uma quantidade considerável de dados em branco referente às métricas `afd` e `ied`, que possuem apenas 196.331 das 350586 entradas.\n",
    "\n",
    "Além disso, há uma pequena redução na quantidade de entradas das 3 taxas (aprovação, reprovação e abandono) do primeiro para o segundo ano (redução de 6703 entradas) e do segundo para o terceiro (redução de 7242 entradas), redução a qual atribuímos a fundação de novas escolas no período analisado, que, portanto, não teriam dados de aprovação em todos os anos do ensino médio. Por exemplo, institutos federais tem ingresso apenas no primeiro ano."
   ]
  },
  {
   "cell_type": "markdown",
   "metadata": {},
   "source": [
    "## IV. Modeling\n",
    "\n",
    "+ Select modeling techniques: \n",
    "+ Generate test design: \n",
    "+ Build model: \n",
    "+ Assess model:  "
   ]
  },
  {
   "cell_type": "code",
   "execution_count": 10,
   "metadata": {},
   "outputs": [],
   "source": [
    "from sklearn.linear_model import LinearRegression, Lasso, ElasticNet, Ridge, RidgeCV\n",
    "from sklearn.neighbors import KNeighborsRegressor\n",
    "from sklearn.tree import DecisionTreeRegressor\n",
    "from sklearn.svm import SVR\n",
    "from sklearn.neural_network import MLPRegressor\n",
    "from sklearn.gaussian_process import GaussianProcessRegressor\n",
    "\n",
    "from sklearn.model_selection import KFold, cross_val_score\n",
    "\n",
    "seed = 0"
   ]
  },
  {
   "cell_type": "code",
   "execution_count": 11,
   "metadata": {},
   "outputs": [
    {
     "name": "stdout",
     "output_type": "stream",
     "text": [
      "Train Size: 262939\n",
      "Test Size: 87647\n",
      "Original Size: 350586\n"
     ]
    }
   ],
   "source": [
    "from sklearn.model_selection import train_test_split\n",
    "\n",
    "df_escola_em_dummies = df_escola_em_dummies.fillna(0)\n",
    "\n",
    "X = df_escola_em_dummies.loc[:, df_escola_em_dummies.columns != \"taxa_reprovacao_em\"]\n",
    "y = df_escola_em_dummies['taxa_reprovacao_em']\n",
    "\n",
    "trainX, testX, trainY, testY  = train_test_split(X, y, random_state = seed)\n",
    "print(f\"Train Size: {trainX.shape[0]}\"), \n",
    "print(f\"Test Size: {testX.shape[0]}\")\n",
    "print(f\"Original Size: {df_escola_em.shape[0]}\")"
   ]
  },
  {
   "cell_type": "code",
   "execution_count": 12,
   "metadata": {},
   "outputs": [],
   "source": [
    "models = []\n",
    "\n",
    "models.append(('LR', LinearRegression()))\n",
    "models.append(('LASSO', Lasso(random_state=seed)))\n",
    "models.append(('EN', ElasticNet(random_state=seed)))\n",
    "models.append(('KNN', KNeighborsRegressor()))\n",
    "models.append(('CART', DecisionTreeRegressor(random_state=seed)))\n",
    "models.append(('SVR', SVR()))\n",
    "models.append(('RIDGE', Ridge(random_state=seed)))\n",
    "models.append(('RIDGECV', RidgeCV()))\n",
    "models.append(('MLPR', MLPRegressor(random_state=seed)))\n",
    "models.append(('GPR', GaussianProcessRegressor(random_state=seed)))"
   ]
  },
  {
   "cell_type": "code",
   "execution_count": null,
   "metadata": {},
   "outputs": [
    {
     "name": "stdout",
     "output_type": "stream",
     "text": [
      "LR: 1.000000 (0.000000)\n",
      "LASSO: 0.997300 (0.000407)\n",
      "EN: 0.996207 (0.000583)\n",
      "KNN: 0.512585 (0.007147)\n",
      "CART: 0.984560 (0.001323)\n"
     ]
    }
   ],
   "source": [
    "results = []\n",
    "names = []\n",
    "num_folds = 10\n",
    "score = 'r2'\n",
    "\n",
    "for name, model in models:\n",
    "    kfold = KFold(n_splits=num_folds, random_state=seed, shuffle=True)\n",
    "    cv_results = cross_val_score(model, trainX, trainY, cv=kfold, scoring=score)\n",
    "    results.append(cv_results)\n",
    "    names.append(name)\n",
    "    msg = \"%s: %f (%f)\" % (name, cv_results.mean(), cv_results.std())\n",
    "    print(msg)\n"
   ]
  },
  {
   "cell_type": "code",
   "execution_count": null,
   "metadata": {},
   "outputs": [],
   "source": [
    "results"
   ]
  },
  {
   "cell_type": "code",
   "execution_count": null,
   "metadata": {},
   "outputs": [],
   "source": [
    "kfold = KFold(n_splits=num_folds, random_state=seed, shuffle=True)\n",
    "cv_results = cross_val_score(LinearRegression(), trainX, trainY, cv=kfold, scoring=score)\n",
    "msg = \"%s: %f (%f)\" % ('LR', cv_results.mean(), cv_results.std())\n",
    "print(msg)"
   ]
  },
  {
   "cell_type": "code",
   "execution_count": null,
   "metadata": {},
   "outputs": [],
   "source": [
    "model_LR = LinearRegression().fit(trainX, trainY)"
   ]
  },
  {
   "cell_type": "markdown",
   "metadata": {},
   "source": [
    "## V. Evaluation                    \n",
    "\n",
    "+ Evaluate results: \n",
    "+ Review process: \n",
    "+ Determine next steps: "
   ]
  },
  {
   "cell_type": "code",
   "execution_count": null,
   "metadata": {},
   "outputs": [],
   "source": []
  },
  {
   "cell_type": "markdown",
   "metadata": {},
   "source": [
    "## VI. Deployment\n",
    "\n",
    "+ Plan deployment: \n",
    "+ Plan monitoring and maintenance: \n",
    "+ Produce final report: \n",
    "+ Review project: "
   ]
  },
  {
   "cell_type": "code",
   "execution_count": null,
   "metadata": {},
   "outputs": [],
   "source": []
  }
 ],
 "metadata": {
  "interpreter": {
   "hash": "ba02304b6ad28b230cb6bb8a342f61cfa670ad55fba7f96e73701903601d9731"
  },
  "kernelspec": {
   "display_name": "Python 3",
   "language": "python",
   "name": "python3"
  },
  "language_info": {
   "codemirror_mode": {
    "name": "ipython",
    "version": 3
   },
   "file_extension": ".py",
   "mimetype": "text/x-python",
   "name": "python",
   "nbconvert_exporter": "python",
   "pygments_lexer": "ipython3",
   "version": "3.8.8"
  }
 },
 "nbformat": 4,
 "nbformat_minor": 4
}
