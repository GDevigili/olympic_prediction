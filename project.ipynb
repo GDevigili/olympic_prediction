{
 "cells": [
  {
   "cell_type": "markdown",
   "metadata": {},
   "source": [
    "## Introduction to Data Science\n",
    "\n",
    "## The CRISP-DM approach to Data Science Tasks"
   ]
  },
  {
   "cell_type": "markdown",
   "metadata": {},
   "source": [
    "_________________________"
   ]
  },
  {
   "cell_type": "markdown",
   "metadata": {},
   "source": [
    "## I. Business Understanding\n",
    "                    \n",
    "#### The Business Understanding phase focuses on understanding the objectives and requirements of the project.  \n",
    "+ Determine business objectives:  \n",
    "\n",
    "Visualizar o impacto do peso, altura, idade, país e histórico dos atletas nos resultados das Olimpíadas de Verão ao longo dos anos, bem como, com esses dados, predizer os vencedores dos Jogos Olímpicos Tóquio 2020 de um dado esporte.\n",
    "\n",
    "+ Assess situation:  \n",
    "\n",
    "\n",
    "+ Determine data mining goals:  \n",
    "\n",
    "Coletar dados sobre os atletas e confederações, dentre os dados que pretendemos utilizar estão idade, peso, altura, NOC, eventos nos quais participou, ano, quantidade de medalhas e a medalha obtida na edição em questão, que é nossa variável _target_.\n",
    "\n",
    "+ Produce project plan:  \n",
    "    + Coletar os dados dos medalhistas e quadro de medalhas da olimpíada de 2021\n",
    "    + Criar uma base de dados SQLite e normalizar os dados\n",
    "    + Gerar visualizações e explorar os dados do dataset gerado\n",
    "    + Utilizar regressões para \n",
    "\n"
   ]
  },
  {
   "cell_type": "code",
   "execution_count": null,
   "metadata": {},
   "outputs": [],
   "source": []
  },
  {
   "cell_type": "markdown",
   "metadata": {},
   "source": [
    "## II. Data Understanding  \n",
    "\n",
    "+ Collect initial data:  \n",
    "+ Describe data:  \n",
    "+ Explore data:  \n",
    "+ Verify data quality:  "
   ]
  },
  {
   "cell_type": "code",
   "execution_count": null,
   "metadata": {},
   "outputs": [],
   "source": []
  },
  {
   "cell_type": "markdown",
   "metadata": {},
   "source": [
    "## III. Data Preparation\n",
    "\n",
    "+ Select data:   \n",
    "+ Clean data:   \n",
    "+ Construct data/transform data/feature engineering:   \n",
    "Dados a serem calculados: (apenas um rascunho para o trabalho futuro)\n",
    "    + quantidade de medalhas de cada país\n",
    "    + quantidade de medalhas para cada atleta\n",
    "    + quantas olimpíadas que cada atleta participou\n",
    "+ Integrate data:   \n",
    "+ (Re) Format data:   "
   ]
  },
  {
   "cell_type": "code",
   "execution_count": null,
   "metadata": {},
   "outputs": [],
   "source": []
  },
  {
   "cell_type": "markdown",
   "metadata": {},
   "source": [
    "## IV. Modeling\n",
    "\n",
    "+ Select modeling techniques: \n",
    "+ Generate test design: \n",
    "+ Build model: \n",
    "+ Assess model:  "
   ]
  },
  {
   "cell_type": "code",
   "execution_count": null,
   "metadata": {},
   "outputs": [],
   "source": []
  },
  {
   "cell_type": "markdown",
   "metadata": {},
   "source": [
    "## V. Evaluation                    \n",
    "\n",
    "+ Evaluate results: \n",
    "+ Review process: \n",
    "+ Determine next steps: "
   ]
  },
  {
   "cell_type": "code",
   "execution_count": null,
   "metadata": {},
   "outputs": [],
   "source": []
  },
  {
   "cell_type": "markdown",
   "metadata": {},
   "source": [
    "## VI. Deployment\n",
    "\n",
    "+ Plan deployment: \n",
    "+ Plan monitoring and maintenance: \n",
    "+ Produce final report: \n",
    "+ Review project: "
   ]
  },
  {
   "cell_type": "code",
   "execution_count": null,
   "metadata": {},
   "outputs": [],
   "source": []
  }
 ],
 "metadata": {
  "kernelspec": {
   "display_name": "Python 3",
   "language": "python",
   "name": "python3"
  },
  "language_info": {
   "codemirror_mode": {
    "name": "ipython",
    "version": 3
   },
   "file_extension": ".py",
   "mimetype": "text/x-python",
   "name": "python",
   "nbconvert_exporter": "python",
   "pygments_lexer": "ipython3",
   "version": "3.8.3"
  }
 },
 "nbformat": 4,
 "nbformat_minor": 4
}
