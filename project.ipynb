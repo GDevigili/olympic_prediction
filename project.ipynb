{
 "cells": [
  {
   "cell_type": "markdown",
   "source": [
    "# Introduction to Data Science\r\n",
    "\r\n",
    "# The CRISP-DM approach to Data Science Tasks"
   ],
   "metadata": {}
  },
  {
   "cell_type": "markdown",
   "source": [
    "_________________________"
   ],
   "metadata": {}
  },
  {
   "cell_type": "markdown",
   "source": [
    "# 1. Business Understanding\r\n",
    "                    \r\n",
    "### The Business Understanding phase focuses on understanding the objectives and requirements of the project.  \r\n",
    "+ Determine business objectives:  \r\n",
    "\r\n",
    "+ Assess situation:  \r\n",
    "\r\n",
    "+ Determine data mining goals:  \r\n",
    "\r\n",
    "+ Produce project plan:  \r\n",
    "\r\n"
   ],
   "metadata": {}
  },
  {
   "cell_type": "code",
   "execution_count": 1,
   "source": [
    "import pandas as pd\r\n",
    "import basedosdados as bd"
   ],
   "outputs": [],
   "metadata": {}
  },
  {
   "cell_type": "markdown",
   "source": [
    "# 2. Data Understanding  \r\n",
    "\r\n",
    "+ Collect initial data:  \r\n",
    "+ Describe data:  \r\n",
    "+ Explore data:  \r\n",
    "+ Verify data quality:  "
   ],
   "metadata": {}
  },
  {
   "cell_type": "markdown",
   "source": [
    "## 2.a. Collect initial data:  "
   ],
   "metadata": {}
  },
  {
   "cell_type": "code",
   "execution_count": 2,
   "source": [
    "# Define algumas variáveis úteis\r\n",
    "dataset_id = \"br_inep_indicadores_educacionais\"\r\n",
    "billing_project_id=\"trabalho-amd\""
   ],
   "outputs": [],
   "metadata": {}
  },
  {
   "cell_type": "markdown",
   "source": [
    "Agora visualizamos a estrutura do dataset"
   ],
   "metadata": {}
  },
  {
   "cell_type": "code",
   "execution_count": 3,
   "source": [
    "bd.list_dataset_tables(dataset_id=dataset_id)"
   ],
   "outputs": [
    {
     "output_type": "stream",
     "name": "stdout",
     "text": [
      "\n",
      "table_id: \n",
      "\tbrasil \n",
      "-----------------------------------------------------------------------------------------------\n",
      "table_id: \n",
      "\tbrasil_remuneracao_docentes \n",
      "-----------------------------------------------------------------------------------------------\n",
      "table_id: \n",
      "\tescola \n",
      "-----------------------------------------------------------------------------------------------\n",
      "table_id: \n",
      "\tescola_nivel_socioeconomico \n",
      "-----------------------------------------------------------------------------------------------\n",
      "table_id: \n",
      "\tfluxo_educacao_superior \n",
      "-----------------------------------------------------------------------------------------------\n",
      "table_id: \n",
      "\tmunicipio \n",
      "-----------------------------------------------------------------------------------------------\n",
      "table_id: \n",
      "\tmunicipio_taxas_transicao \n",
      "-----------------------------------------------------------------------------------------------\n",
      "table_id: \n",
      "\tregiao \n",
      "-----------------------------------------------------------------------------------------------\n",
      "table_id: \n",
      "\tuf \n",
      "-----------------------------------------------------------------------------------------------\n",
      "table_id: \n",
      "\tuf_remuneracao_docentes \n",
      "-----------------------------------------------------------------------------------------------\n",
      "\n"
     ]
    }
   ],
   "metadata": {}
  },
  {
   "cell_type": "markdown",
   "source": [
    "Fazendo o download de cada uma das tabelas do dataset:\r\n",
    "\r\n",
    "+ brasil"
   ],
   "metadata": {}
  },
  {
   "cell_type": "code",
   "execution_count": 4,
   "source": [
    "#bd.download(dataset_id=dataset_id, table_id='brasil', savepath='data/brasil.csv', billing_project_id=billing_project_id)\r\n",
    "df_brasil = pd.read_csv('data/brasil.csv')"
   ],
   "outputs": [],
   "metadata": {}
  },
  {
   "cell_type": "markdown",
   "source": [
    "+ brasil_remuneracao_docentes"
   ],
   "metadata": {}
  },
  {
   "cell_type": "code",
   "execution_count": 5,
   "source": [
    "#bd.download(dataset_id=dataset_id, table_id='brasil_remuneracao_docentes', savepath='data/brasil_remuneracao_docentes.csv', billing_project_id=billing_project_id)\r\n",
    "df_brasil_remuneracao = pd.read_csv('data/brasil_remuneracao_docentes.csv')"
   ],
   "outputs": [],
   "metadata": {}
  },
  {
   "cell_type": "markdown",
   "source": [
    "+ escola"
   ],
   "metadata": {}
  },
  {
   "cell_type": "code",
   "execution_count": 6,
   "source": [
    "#bd.download(dataset_id=dataset_id, table_id='escola', savepath='data/escola.csv', billing_project_id=billing_project_id)\r\n",
    "df_escola = pd.read_csv('data/escola.csv')"
   ],
   "outputs": [],
   "metadata": {}
  },
  {
   "cell_type": "markdown",
   "source": [
    "+ escola_nivel_socioeconomico"
   ],
   "metadata": {}
  },
  {
   "cell_type": "code",
   "execution_count": 7,
   "source": [
    "#bd.download(dataset_id=dataset_id, table_id='escola_nivel_socioeconomico', savepath='data/escola_nivel_socioeconomico.csv', billing_project_id=billing_project_id)\r\n",
    "df_escola_nivel_socioeconomico = pd.read_csv('data/escola_nivel_socioeconomico.csv')"
   ],
   "outputs": [],
   "metadata": {}
  },
  {
   "cell_type": "markdown",
   "source": [
    "+ municipio"
   ],
   "metadata": {}
  },
  {
   "cell_type": "code",
   "execution_count": 8,
   "source": [
    "#bd.download(dataset_id=dataset_id, table_id='municipio', savepath='data/municipio.csv', billing_project_id=billing_project_id)\r\n",
    "df_minicipio = pd.read_csv('data/municipio.csv')"
   ],
   "outputs": [],
   "metadata": {}
  },
  {
   "cell_type": "code",
   "execution_count": 9,
   "source": [
    "#bd.download(dataset_id=dataset_id, table_id='municipio_taxas_transicao', savepath='data/municipio_taxas_transicao.csv', billing_project_id=billing_project_id)\r\n",
    "df_municipio_taxas = pd.read_csv('data/municipio_taxas_transicao.csv')"
   ],
   "outputs": [],
   "metadata": {}
  },
  {
   "cell_type": "code",
   "execution_count": 10,
   "source": [
    "#bd.download(dataset_id=dataset_id, table_id='regiao', savepath='data/regiao.csv', billing_project_id=billing_project_id)\r\n",
    "df_regiao = pd.read_csv('data/regiao.csv')"
   ],
   "outputs": [],
   "metadata": {}
  },
  {
   "cell_type": "code",
   "execution_count": 11,
   "source": [
    "#bd.download(dataset_id=dataset_id, table_id='uf', savepath='data/uf.csv', billing_project_id=billing_project_id)\r\n",
    "df_uf = pd.read_csv('data/uf.csv')"
   ],
   "outputs": [],
   "metadata": {}
  },
  {
   "cell_type": "code",
   "execution_count": 12,
   "source": [
    "#bd.download(dataset_id=dataset_id, table_id='uf_remuneracao_docentes', savepath='data/uf_remuneracao_docentes.csv', billing_project_id=billing_project_id)\r\n",
    "df_uf_remuneracao = pd.read_csv('data/uf_remuneracao_docentes.csv')"
   ],
   "outputs": [],
   "metadata": {}
  },
  {
   "cell_type": "markdown",
   "source": [
    "## 2.b. Describe Data"
   ],
   "metadata": {}
  },
  {
   "cell_type": "markdown",
   "source": [
    "Começando pela tabela `escola` que é a mais importante do dataset, podemos ver que ela é formada por 208 colunas, destas 205 numéricas e 3 categóricas."
   ],
   "metadata": {}
  },
  {
   "cell_type": "code",
   "execution_count": 24,
   "source": [
    "df_escola.info()\r\n",
    "df_escola.head(10)"
   ],
   "outputs": [
    {
     "output_type": "stream",
     "name": "stdout",
     "text": [
      "<class 'pandas.core.frame.DataFrame'>\n",
      "RangeIndex: 2637557 entries, 0 to 2637556\n",
      "Columns: 208 entries, ano to icg_nivel_complexidade_gestao_escola\n",
      "dtypes: float64(202), int64(3), object(3)\n",
      "memory usage: 4.1+ GB\n"
     ]
    },
    {
     "output_type": "execute_result",
     "data": {
      "text/html": [
       "<div>\n",
       "<style scoped>\n",
       "    .dataframe tbody tr th:only-of-type {\n",
       "        vertical-align: middle;\n",
       "    }\n",
       "\n",
       "    .dataframe tbody tr th {\n",
       "        vertical-align: top;\n",
       "    }\n",
       "\n",
       "    .dataframe thead th {\n",
       "        text-align: right;\n",
       "    }\n",
       "</style>\n",
       "<table border=\"1\" class=\"dataframe\">\n",
       "  <thead>\n",
       "    <tr style=\"text-align: right;\">\n",
       "      <th></th>\n",
       "      <th>ano</th>\n",
       "      <th>id_municipio</th>\n",
       "      <th>rede</th>\n",
       "      <th>id_escola</th>\n",
       "      <th>localizacao</th>\n",
       "      <th>atu_ei</th>\n",
       "      <th>atu_ei_creche</th>\n",
       "      <th>atu_ei_pre_escola</th>\n",
       "      <th>atu_ef</th>\n",
       "      <th>atu_ef_anos_iniciais</th>\n",
       "      <th>...</th>\n",
       "      <th>ied_ef_anos_finais_nivel_4</th>\n",
       "      <th>ied_ef_anos_finais_nivel_5</th>\n",
       "      <th>ied_ef_anos_finais_nivel_6</th>\n",
       "      <th>ied_em_nivel_1</th>\n",
       "      <th>ied_em_nivel_2</th>\n",
       "      <th>ied_em_nivel_3</th>\n",
       "      <th>ied_em_nivel_4</th>\n",
       "      <th>ied_em_nivel_5</th>\n",
       "      <th>ied_em_nivel_6</th>\n",
       "      <th>icg_nivel_complexidade_gestao_escola</th>\n",
       "    </tr>\n",
       "  </thead>\n",
       "  <tbody>\n",
       "    <tr>\n",
       "      <th>0</th>\n",
       "      <td>2013</td>\n",
       "      <td>1100015</td>\n",
       "      <td>municipal</td>\n",
       "      <td>11024542</td>\n",
       "      <td>rural</td>\n",
       "      <td>NaN</td>\n",
       "      <td>NaN</td>\n",
       "      <td>NaN</td>\n",
       "      <td>5.0</td>\n",
       "      <td>NaN</td>\n",
       "      <td>...</td>\n",
       "      <td>0.0</td>\n",
       "      <td>0.0</td>\n",
       "      <td>0.0</td>\n",
       "      <td>NaN</td>\n",
       "      <td>NaN</td>\n",
       "      <td>NaN</td>\n",
       "      <td>NaN</td>\n",
       "      <td>NaN</td>\n",
       "      <td>NaN</td>\n",
       "      <td>nivel 1</td>\n",
       "    </tr>\n",
       "    <tr>\n",
       "      <th>1</th>\n",
       "      <td>2013</td>\n",
       "      <td>1100015</td>\n",
       "      <td>municipal</td>\n",
       "      <td>11025000</td>\n",
       "      <td>rural</td>\n",
       "      <td>NaN</td>\n",
       "      <td>NaN</td>\n",
       "      <td>NaN</td>\n",
       "      <td>6.0</td>\n",
       "      <td>NaN</td>\n",
       "      <td>...</td>\n",
       "      <td>0.0</td>\n",
       "      <td>0.0</td>\n",
       "      <td>0.0</td>\n",
       "      <td>NaN</td>\n",
       "      <td>NaN</td>\n",
       "      <td>NaN</td>\n",
       "      <td>NaN</td>\n",
       "      <td>NaN</td>\n",
       "      <td>NaN</td>\n",
       "      <td>nivel 1</td>\n",
       "    </tr>\n",
       "    <tr>\n",
       "      <th>2</th>\n",
       "      <td>2013</td>\n",
       "      <td>1100015</td>\n",
       "      <td>municipal</td>\n",
       "      <td>11025115</td>\n",
       "      <td>rural</td>\n",
       "      <td>11.0</td>\n",
       "      <td>NaN</td>\n",
       "      <td>11.0</td>\n",
       "      <td>13.0</td>\n",
       "      <td>NaN</td>\n",
       "      <td>...</td>\n",
       "      <td>30.8</td>\n",
       "      <td>7.7</td>\n",
       "      <td>7.7</td>\n",
       "      <td>NaN</td>\n",
       "      <td>NaN</td>\n",
       "      <td>NaN</td>\n",
       "      <td>NaN</td>\n",
       "      <td>NaN</td>\n",
       "      <td>NaN</td>\n",
       "      <td>nivel 2</td>\n",
       "    </tr>\n",
       "    <tr>\n",
       "      <th>3</th>\n",
       "      <td>2013</td>\n",
       "      <td>1100015</td>\n",
       "      <td>municipal</td>\n",
       "      <td>11047461</td>\n",
       "      <td>urbana</td>\n",
       "      <td>19.3</td>\n",
       "      <td>NaN</td>\n",
       "      <td>19.3</td>\n",
       "      <td>20.0</td>\n",
       "      <td>20.0</td>\n",
       "      <td>...</td>\n",
       "      <td>NaN</td>\n",
       "      <td>NaN</td>\n",
       "      <td>NaN</td>\n",
       "      <td>NaN</td>\n",
       "      <td>NaN</td>\n",
       "      <td>NaN</td>\n",
       "      <td>NaN</td>\n",
       "      <td>NaN</td>\n",
       "      <td>NaN</td>\n",
       "      <td>nivel 2</td>\n",
       "    </tr>\n",
       "    <tr>\n",
       "      <th>4</th>\n",
       "      <td>2013</td>\n",
       "      <td>1100023</td>\n",
       "      <td>municipal</td>\n",
       "      <td>11007850</td>\n",
       "      <td>rural</td>\n",
       "      <td>NaN</td>\n",
       "      <td>NaN</td>\n",
       "      <td>NaN</td>\n",
       "      <td>18.1</td>\n",
       "      <td>17.2</td>\n",
       "      <td>...</td>\n",
       "      <td>71.4</td>\n",
       "      <td>0.0</td>\n",
       "      <td>0.0</td>\n",
       "      <td>NaN</td>\n",
       "      <td>NaN</td>\n",
       "      <td>NaN</td>\n",
       "      <td>NaN</td>\n",
       "      <td>NaN</td>\n",
       "      <td>NaN</td>\n",
       "      <td>nivel 3</td>\n",
       "    </tr>\n",
       "    <tr>\n",
       "      <th>5</th>\n",
       "      <td>2013</td>\n",
       "      <td>1100023</td>\n",
       "      <td>estadual</td>\n",
       "      <td>11048620</td>\n",
       "      <td>urbana</td>\n",
       "      <td>NaN</td>\n",
       "      <td>NaN</td>\n",
       "      <td>NaN</td>\n",
       "      <td>29.9</td>\n",
       "      <td>27.8</td>\n",
       "      <td>...</td>\n",
       "      <td>33.3</td>\n",
       "      <td>44.4</td>\n",
       "      <td>5.6</td>\n",
       "      <td>0.0</td>\n",
       "      <td>0.0</td>\n",
       "      <td>0.0</td>\n",
       "      <td>46.6</td>\n",
       "      <td>46.7</td>\n",
       "      <td>6.7</td>\n",
       "      <td>nivel 6</td>\n",
       "    </tr>\n",
       "    <tr>\n",
       "      <th>6</th>\n",
       "      <td>2013</td>\n",
       "      <td>1100023</td>\n",
       "      <td>municipal</td>\n",
       "      <td>11007931</td>\n",
       "      <td>urbana</td>\n",
       "      <td>26.1</td>\n",
       "      <td>NaN</td>\n",
       "      <td>26.1</td>\n",
       "      <td>27.7</td>\n",
       "      <td>27.7</td>\n",
       "      <td>...</td>\n",
       "      <td>NaN</td>\n",
       "      <td>NaN</td>\n",
       "      <td>NaN</td>\n",
       "      <td>NaN</td>\n",
       "      <td>NaN</td>\n",
       "      <td>NaN</td>\n",
       "      <td>NaN</td>\n",
       "      <td>NaN</td>\n",
       "      <td>NaN</td>\n",
       "      <td>nivel 5</td>\n",
       "    </tr>\n",
       "    <tr>\n",
       "      <th>7</th>\n",
       "      <td>2013</td>\n",
       "      <td>1100049</td>\n",
       "      <td>municipal</td>\n",
       "      <td>11026294</td>\n",
       "      <td>rural</td>\n",
       "      <td>13.0</td>\n",
       "      <td>NaN</td>\n",
       "      <td>13.0</td>\n",
       "      <td>17.1</td>\n",
       "      <td>17.6</td>\n",
       "      <td>...</td>\n",
       "      <td>42.9</td>\n",
       "      <td>0.0</td>\n",
       "      <td>14.3</td>\n",
       "      <td>NaN</td>\n",
       "      <td>NaN</td>\n",
       "      <td>NaN</td>\n",
       "      <td>NaN</td>\n",
       "      <td>NaN</td>\n",
       "      <td>NaN</td>\n",
       "      <td>nivel 2</td>\n",
       "    </tr>\n",
       "    <tr>\n",
       "      <th>8</th>\n",
       "      <td>2013</td>\n",
       "      <td>1100049</td>\n",
       "      <td>estadual</td>\n",
       "      <td>11026014</td>\n",
       "      <td>urbana</td>\n",
       "      <td>NaN</td>\n",
       "      <td>NaN</td>\n",
       "      <td>NaN</td>\n",
       "      <td>19.0</td>\n",
       "      <td>19.8</td>\n",
       "      <td>...</td>\n",
       "      <td>71.4</td>\n",
       "      <td>14.3</td>\n",
       "      <td>0.0</td>\n",
       "      <td>NaN</td>\n",
       "      <td>NaN</td>\n",
       "      <td>NaN</td>\n",
       "      <td>NaN</td>\n",
       "      <td>NaN</td>\n",
       "      <td>NaN</td>\n",
       "      <td>nivel 3</td>\n",
       "    </tr>\n",
       "    <tr>\n",
       "      <th>9</th>\n",
       "      <td>2013</td>\n",
       "      <td>1100049</td>\n",
       "      <td>estadual</td>\n",
       "      <td>11026545</td>\n",
       "      <td>urbana</td>\n",
       "      <td>NaN</td>\n",
       "      <td>NaN</td>\n",
       "      <td>NaN</td>\n",
       "      <td>27.5</td>\n",
       "      <td>27.4</td>\n",
       "      <td>...</td>\n",
       "      <td>33.3</td>\n",
       "      <td>0.0</td>\n",
       "      <td>0.0</td>\n",
       "      <td>NaN</td>\n",
       "      <td>NaN</td>\n",
       "      <td>NaN</td>\n",
       "      <td>NaN</td>\n",
       "      <td>NaN</td>\n",
       "      <td>NaN</td>\n",
       "      <td>nivel 3</td>\n",
       "    </tr>\n",
       "  </tbody>\n",
       "</table>\n",
       "<p>10 rows × 208 columns</p>\n",
       "</div>"
      ],
      "text/plain": [
       "    ano  id_municipio       rede  id_escola localizacao  atu_ei  \\\n",
       "0  2013       1100015  municipal   11024542       rural     NaN   \n",
       "1  2013       1100015  municipal   11025000       rural     NaN   \n",
       "2  2013       1100015  municipal   11025115       rural    11.0   \n",
       "3  2013       1100015  municipal   11047461      urbana    19.3   \n",
       "4  2013       1100023  municipal   11007850       rural     NaN   \n",
       "5  2013       1100023   estadual   11048620      urbana     NaN   \n",
       "6  2013       1100023  municipal   11007931      urbana    26.1   \n",
       "7  2013       1100049  municipal   11026294       rural    13.0   \n",
       "8  2013       1100049   estadual   11026014      urbana     NaN   \n",
       "9  2013       1100049   estadual   11026545      urbana     NaN   \n",
       "\n",
       "   atu_ei_creche  atu_ei_pre_escola  atu_ef  atu_ef_anos_iniciais  ...  \\\n",
       "0            NaN                NaN     5.0                   NaN  ...   \n",
       "1            NaN                NaN     6.0                   NaN  ...   \n",
       "2            NaN               11.0    13.0                   NaN  ...   \n",
       "3            NaN               19.3    20.0                  20.0  ...   \n",
       "4            NaN                NaN    18.1                  17.2  ...   \n",
       "5            NaN                NaN    29.9                  27.8  ...   \n",
       "6            NaN               26.1    27.7                  27.7  ...   \n",
       "7            NaN               13.0    17.1                  17.6  ...   \n",
       "8            NaN                NaN    19.0                  19.8  ...   \n",
       "9            NaN                NaN    27.5                  27.4  ...   \n",
       "\n",
       "   ied_ef_anos_finais_nivel_4  ied_ef_anos_finais_nivel_5  \\\n",
       "0                         0.0                         0.0   \n",
       "1                         0.0                         0.0   \n",
       "2                        30.8                         7.7   \n",
       "3                         NaN                         NaN   \n",
       "4                        71.4                         0.0   \n",
       "5                        33.3                        44.4   \n",
       "6                         NaN                         NaN   \n",
       "7                        42.9                         0.0   \n",
       "8                        71.4                        14.3   \n",
       "9                        33.3                         0.0   \n",
       "\n",
       "   ied_ef_anos_finais_nivel_6  ied_em_nivel_1  ied_em_nivel_2  ied_em_nivel_3  \\\n",
       "0                         0.0             NaN             NaN             NaN   \n",
       "1                         0.0             NaN             NaN             NaN   \n",
       "2                         7.7             NaN             NaN             NaN   \n",
       "3                         NaN             NaN             NaN             NaN   \n",
       "4                         0.0             NaN             NaN             NaN   \n",
       "5                         5.6             0.0             0.0             0.0   \n",
       "6                         NaN             NaN             NaN             NaN   \n",
       "7                        14.3             NaN             NaN             NaN   \n",
       "8                         0.0             NaN             NaN             NaN   \n",
       "9                         0.0             NaN             NaN             NaN   \n",
       "\n",
       "   ied_em_nivel_4  ied_em_nivel_5  ied_em_nivel_6  \\\n",
       "0             NaN             NaN             NaN   \n",
       "1             NaN             NaN             NaN   \n",
       "2             NaN             NaN             NaN   \n",
       "3             NaN             NaN             NaN   \n",
       "4             NaN             NaN             NaN   \n",
       "5            46.6            46.7             6.7   \n",
       "6             NaN             NaN             NaN   \n",
       "7             NaN             NaN             NaN   \n",
       "8             NaN             NaN             NaN   \n",
       "9             NaN             NaN             NaN   \n",
       "\n",
       "   icg_nivel_complexidade_gestao_escola  \n",
       "0                               nivel 1  \n",
       "1                               nivel 1  \n",
       "2                               nivel 2  \n",
       "3                               nivel 2  \n",
       "4                               nivel 3  \n",
       "5                               nivel 6  \n",
       "6                               nivel 5  \n",
       "7                               nivel 2  \n",
       "8                               nivel 3  \n",
       "9                               nivel 3  \n",
       "\n",
       "[10 rows x 208 columns]"
      ]
     },
     "metadata": {},
     "execution_count": 24
    }
   ],
   "metadata": {}
  },
  {
   "cell_type": "markdown",
   "source": [
    "Agora filtrando os dados apenas do Ensino Médio:"
   ],
   "metadata": {}
  },
  {
   "cell_type": "code",
   "execution_count": null,
   "source": [
    "df_brasil"
   ],
   "outputs": [],
   "metadata": {}
  },
  {
   "cell_type": "code",
   "execution_count": null,
   "source": [],
   "outputs": [],
   "metadata": {}
  },
  {
   "cell_type": "markdown",
   "source": [
    "### Explore Data"
   ],
   "metadata": {}
  },
  {
   "cell_type": "code",
   "execution_count": null,
   "source": [
    "from matplotlib import pyplot as plt\r\n",
    "import seaborn as sns"
   ],
   "outputs": [],
   "metadata": {}
  },
  {
   "cell_type": "markdown",
   "source": [
    "#### Peso vs. Altura"
   ],
   "metadata": {}
  },
  {
   "cell_type": "code",
   "execution_count": null,
   "source": [
    "colors = {'M':'blue', 'F':'red'}\r\n",
    "plt.scatter(y = df['Height'], x = df['Weight'], alpha = 0.1, c=df['Sex'].map(colors))\r\n",
    "# sns.jointplot(df['Height'], df['Weight'])\r\n",
    "\r\n",
    "plt.ylabel('Altura dos Atletas')\r\n",
    "plt.xlabel('Peso dos Atletas')\r\n",
    "plt.rcParams.update({'figure.figsize':(10,10), 'figure.dpi':100})\r\n",
    "plt.show()"
   ],
   "outputs": [],
   "metadata": {
    "scrolled": true
   }
  },
  {
   "cell_type": "code",
   "execution_count": null,
   "source": [
    "plt.clf()"
   ],
   "outputs": [],
   "metadata": {}
  },
  {
   "cell_type": "markdown",
   "source": [
    "## 3. Data Preparation\r\n",
    "\r\n",
    "+ Select data:   \r\n",
    "+ Clean data:   \r\n",
    "+ Construct data/transform data/feature engineering:   \r\n",
    "+ Integrate data:   \r\n",
    "+ (Re) Format data:   "
   ],
   "metadata": {}
  },
  {
   "cell_type": "code",
   "execution_count": null,
   "source": [],
   "outputs": [],
   "metadata": {}
  },
  {
   "cell_type": "code",
   "execution_count": null,
   "source": [],
   "outputs": [],
   "metadata": {}
  },
  {
   "cell_type": "markdown",
   "source": [
    "## IV. Modeling\n",
    "\n",
    "+ Select modeling techniques: \n",
    "+ Generate test design: \n",
    "+ Build model: \n",
    "+ Assess model:  "
   ],
   "metadata": {}
  },
  {
   "cell_type": "code",
   "execution_count": null,
   "source": [],
   "outputs": [],
   "metadata": {}
  },
  {
   "cell_type": "markdown",
   "source": [
    "## V. Evaluation                    \n",
    "\n",
    "+ Evaluate results: \n",
    "+ Review process: \n",
    "+ Determine next steps: "
   ],
   "metadata": {}
  },
  {
   "cell_type": "code",
   "execution_count": null,
   "source": [],
   "outputs": [],
   "metadata": {}
  },
  {
   "cell_type": "markdown",
   "source": [
    "## VI. Deployment\n",
    "\n",
    "+ Plan deployment: \n",
    "+ Plan monitoring and maintenance: \n",
    "+ Produce final report: \n",
    "+ Review project: "
   ],
   "metadata": {}
  },
  {
   "cell_type": "code",
   "execution_count": null,
   "source": [],
   "outputs": [],
   "metadata": {}
  }
 ],
 "metadata": {
  "kernelspec": {
   "name": "python3",
   "display_name": "Python 3.8.8 64-bit (conda)"
  },
  "language_info": {
   "codemirror_mode": {
    "name": "ipython",
    "version": 3
   },
   "file_extension": ".py",
   "mimetype": "text/x-python",
   "name": "python",
   "nbconvert_exporter": "python",
   "pygments_lexer": "ipython3",
   "version": "3.8.8"
  },
  "interpreter": {
   "hash": "ba02304b6ad28b230cb6bb8a342f61cfa670ad55fba7f96e73701903601d9731"
  }
 },
 "nbformat": 4,
 "nbformat_minor": 4
}